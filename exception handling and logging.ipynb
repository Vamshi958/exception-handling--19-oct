{
 "cells": [
  {
   "cell_type": "code",
   "execution_count": 1,
   "id": "025ebff2-963e-405e-adfe-e8de1e03506a",
   "metadata": {},
   "outputs": [],
   "source": [
    "a=10\n",
    "b=5"
   ]
  },
  {
   "cell_type": "code",
   "execution_count": 2,
   "id": "e19a075f-b55a-4ee0-92af-879d26732c32",
   "metadata": {},
   "outputs": [
    {
     "data": {
      "text/plain": [
       "50"
      ]
     },
     "execution_count": 2,
     "metadata": {},
     "output_type": "execute_result"
    }
   ],
   "source": [
    "a*b"
   ]
  },
  {
   "cell_type": "code",
   "execution_count": 3,
   "id": "26997645-756e-4882-8646-a52c007f83a4",
   "metadata": {},
   "outputs": [
    {
     "data": {
      "text/plain": [
       "2.0"
      ]
     },
     "execution_count": 3,
     "metadata": {},
     "output_type": "execute_result"
    }
   ],
   "source": [
    "a/b"
   ]
  },
  {
   "cell_type": "code",
   "execution_count": 4,
   "id": "5103cc69-8fbd-4610-a6d8-9d8f61ee5adc",
   "metadata": {},
   "outputs": [],
   "source": [
    "a=10\n",
    "b=0"
   ]
  },
  {
   "cell_type": "code",
   "execution_count": 5,
   "id": "761b9f99-ffe3-4090-bd89-140a11fb2380",
   "metadata": {},
   "outputs": [
    {
     "data": {
      "text/plain": [
       "0"
      ]
     },
     "execution_count": 5,
     "metadata": {},
     "output_type": "execute_result"
    }
   ],
   "source": [
    "a* b"
   ]
  },
  {
   "cell_type": "code",
   "execution_count": 6,
   "id": "a4889300-f0f1-43fb-a1ae-025f3b07fe37",
   "metadata": {},
   "outputs": [
    {
     "ename": "ZeroDivisionError",
     "evalue": "division by zero",
     "output_type": "error",
     "traceback": [
      "\u001b[0;31m---------------------------------------------------------------------------\u001b[0m",
      "\u001b[0;31mZeroDivisionError\u001b[0m                         Traceback (most recent call last)",
      "Cell \u001b[0;32mIn[6], line 1\u001b[0m\n\u001b[0;32m----> 1\u001b[0m \u001b[43ma\u001b[49m\u001b[38;5;241;43m/\u001b[39;49m\u001b[43mb\u001b[49m\n",
      "\u001b[0;31mZeroDivisionError\u001b[0m: division by zero"
     ]
    }
   ],
   "source": [
    "a/b"
   ]
  },
  {
   "cell_type": "code",
   "execution_count": 7,
   "id": "000c7461-9909-4bda-b688-f4b6fddde765",
   "metadata": {},
   "outputs": [
    {
     "name": "stdin",
     "output_type": "stream",
     "text": [
      "enter a value for a 6\n",
      "enter a value for a 0\n"
     ]
    }
   ],
   "source": [
    "a=int(input(\"enter a value for a\"))\n",
    "b=int(input(\"enter a value for a\"))\n"
   ]
  },
  {
   "cell_type": "code",
   "execution_count": 8,
   "id": "8d2954d5-fed1-49fe-8187-1ddb1c5b7096",
   "metadata": {},
   "outputs": [
    {
     "data": {
      "text/plain": [
       "0"
      ]
     },
     "execution_count": 8,
     "metadata": {},
     "output_type": "execute_result"
    }
   ],
   "source": [
    "a*b"
   ]
  },
  {
   "cell_type": "code",
   "execution_count": 12,
   "id": "deddcea2-ad17-4052-bac8-74ea7974b269",
   "metadata": {},
   "outputs": [
    {
     "ename": "ZeroDivisionError",
     "evalue": "division by zero",
     "output_type": "error",
     "traceback": [
      "\u001b[0;31m---------------------------------------------------------------------------\u001b[0m",
      "\u001b[0;31mZeroDivisionError\u001b[0m                         Traceback (most recent call last)",
      "Cell \u001b[0;32mIn[12], line 1\u001b[0m\n\u001b[0;32m----> 1\u001b[0m \u001b[43ma\u001b[49m\u001b[38;5;241;43m/\u001b[39;49m\u001b[43mb\u001b[49m  \u001b[38;5;66;03m#program wise no issue, code wise no issue but run time error\u001b[39;00m\n\u001b[1;32m      2\u001b[0m \u001b[38;5;28mprint\u001b[39m(\u001b[38;5;124m\"\u001b[39m\u001b[38;5;124mprint something\u001b[39m\u001b[38;5;124m\"\u001b[39m) \u001b[38;5;66;03m#execute sequentially\u001b[39;00m\n",
      "\u001b[0;31mZeroDivisionError\u001b[0m: division by zero"
     ]
    }
   ],
   "source": [
    "a/b  #program wise no issue, code wise no issue but run time error\n",
    "print(\"print something\") #execute sequentially"
   ]
  },
  {
   "cell_type": "code",
   "execution_count": 2,
   "id": "c862441a-b849-4a10-9ead-45d179fef9c9",
   "metadata": {},
   "outputs": [],
   "source": [
    "l=[4,5,6,7,8,9,10]\n",
    "l1=[]\n",
    "def even_parser(l):\n",
    "    for i in l:\n",
    "        if i%2==0:\n",
    "            l1.append(i)\n",
    "    return l1\n",
    "            "
   ]
  },
  {
   "cell_type": "code",
   "execution_count": 3,
   "id": "f9ab01b5-eb55-4a03-8162-90f25cccd623",
   "metadata": {},
   "outputs": [
    {
     "data": {
      "text/plain": [
       "[4, 6, 8, 10]"
      ]
     },
     "execution_count": 3,
     "metadata": {},
     "output_type": "execute_result"
    }
   ],
   "source": [
    "even_parser(l)"
   ]
  },
  {
   "cell_type": "code",
   "execution_count": 4,
   "id": "3555f4eb-8409-4505-89f3-352871d00814",
   "metadata": {},
   "outputs": [
    {
     "ename": "TypeError",
     "evalue": "not all arguments converted during string formatting",
     "output_type": "error",
     "traceback": [
      "\u001b[0;31m---------------------------------------------------------------------------\u001b[0m",
      "\u001b[0;31mTypeError\u001b[0m                                 Traceback (most recent call last)",
      "Cell \u001b[0;32mIn[4], line 1\u001b[0m\n\u001b[0;32m----> 1\u001b[0m \u001b[43meven_parser\u001b[49m\u001b[43m(\u001b[49m\u001b[38;5;124;43m\"\u001b[39;49m\u001b[38;5;124;43mvamshi\u001b[39;49m\u001b[38;5;124;43m\"\u001b[39;49m\u001b[43m)\u001b[49m\n",
      "Cell \u001b[0;32mIn[2], line 5\u001b[0m, in \u001b[0;36meven_parser\u001b[0;34m(l)\u001b[0m\n\u001b[1;32m      3\u001b[0m \u001b[38;5;28;01mdef\u001b[39;00m \u001b[38;5;21meven_parser\u001b[39m(l):\n\u001b[1;32m      4\u001b[0m     \u001b[38;5;28;01mfor\u001b[39;00m i \u001b[38;5;129;01min\u001b[39;00m l:\n\u001b[0;32m----> 5\u001b[0m         \u001b[38;5;28;01mif\u001b[39;00m \u001b[43mi\u001b[49m\u001b[38;5;241;43m%\u001b[39;49m\u001b[38;5;241;43m2\u001b[39;49m\u001b[38;5;241m==\u001b[39m\u001b[38;5;241m0\u001b[39m:\n\u001b[1;32m      6\u001b[0m             l1\u001b[38;5;241m.\u001b[39mappend(i)\n\u001b[1;32m      7\u001b[0m     \u001b[38;5;28;01mreturn\u001b[39;00m l1\n",
      "\u001b[0;31mTypeError\u001b[0m: not all arguments converted during string formatting"
     ]
    }
   ],
   "source": [
    "even_parser(\"vamshi\")"
   ]
  },
  {
   "cell_type": "code",
   "execution_count": 6,
   "id": "4802158e-8622-4552-8a98-b54ca1a700d3",
   "metadata": {},
   "outputs": [
    {
     "name": "stdout",
     "output_type": "stream",
     "text": [
      "print something\n"
     ]
    }
   ],
   "source": [
    "even_parser(l)\n",
    "print(\"print something\")"
   ]
  },
  {
   "cell_type": "code",
   "execution_count": null,
   "id": "66f43441-2339-46f2-bd16-b1d3482ecfef",
   "metadata": {},
   "outputs": [],
   "source": [
    "even_parser(\"vamshi\")\n",
    "print(\"print something\")"
   ]
  },
  {
   "cell_type": "code",
   "execution_count": 1,
   "id": "386b9eec-5388-42ff-8e6c-87884929a902",
   "metadata": {},
   "outputs": [
    {
     "name": "stdin",
     "output_type": "stream",
     "text": [
      "enter a avlue of a 4\n",
      "enter a avlue of b 2\n"
     ]
    },
    {
     "name": "stdout",
     "output_type": "stream",
     "text": [
      "2.0\n"
     ]
    }
   ],
   "source": [
    "try :\n",
    "    a=int(input(\"enter a avlue of a\"))\n",
    "    b=int(input(\"enter a avlue of b\"))\n",
    "    c=a/b\n",
    "    print(c)\n",
    "except:\n",
    "    pass\n"
   ]
  },
  {
   "cell_type": "code",
   "execution_count": 15,
   "id": "01192223-18c2-4b4b-96be-376ac72bb649",
   "metadata": {},
   "outputs": [
    {
     "name": "stdin",
     "output_type": "stream",
     "text": [
      "enter a avlue of a 2\n",
      "enter a avlue of b 0\n"
     ]
    },
    {
     "name": "stdout",
     "output_type": "stream",
     "text": [
      "print something\n"
     ]
    }
   ],
   "source": [
    "try :     #try to keep all the suspecious codes------we try to keep in block wise            #it checks if there is any run time error\n",
    "    a=int(input(\"enter a avlue of a\"))\n",
    "    b=int(input(\"enter a avlue of b\"))\n",
    "    c=a/b\n",
    "    print(c)\n",
    "except:  #it will try to  handle the erro by a message and executes next line\n",
    "    pass\n",
    "print(\"print something\")"
   ]
  },
  {
   "cell_type": "code",
   "execution_count": 2,
   "id": "9956dba0-5238-443b-bde9-adebea2fa846",
   "metadata": {},
   "outputs": [
    {
     "name": "stdin",
     "output_type": "stream",
     "text": [
      "enter a avlue of a sudh\n"
     ]
    },
    {
     "name": "stdout",
     "output_type": "stream",
     "text": [
      "print something\n"
     ]
    }
   ],
   "source": [
    "try :     #try to keep all the suspecious codes------we try to keep in block wise            #it checks if there is any run time error\n",
    "    a=int(input(\"enter a avlue of a\"))\n",
    "    b=int(input(\"enter a avlue of b\"))\n",
    "    c=a/b\n",
    "    print(c)\n",
    "except:  #it will try to  handle the erro by a message and executes next line\n",
    "    pass\n",
    "print(\"print something\")"
   ]
  },
  {
   "cell_type": "code",
   "execution_count": 3,
   "id": "cedac7e1-d3d1-4288-8f44-53b9f7ace724",
   "metadata": {},
   "outputs": [
    {
     "name": "stdin",
     "output_type": "stream",
     "text": [
      "enter a value for a vamshi\n"
     ]
    },
    {
     "ename": "ValueError",
     "evalue": "invalid literal for int() with base 10: 'vamshi'",
     "output_type": "error",
     "traceback": [
      "\u001b[0;31m---------------------------------------------------------------------------\u001b[0m",
      "\u001b[0;31mValueError\u001b[0m                                Traceback (most recent call last)",
      "Cell \u001b[0;32mIn[3], line 1\u001b[0m\n\u001b[0;32m----> 1\u001b[0m a\u001b[38;5;241m=\u001b[39m\u001b[38;5;28;43mint\u001b[39;49m\u001b[43m(\u001b[49m\u001b[38;5;28;43minput\u001b[39;49m\u001b[43m(\u001b[49m\u001b[38;5;124;43m\"\u001b[39;49m\u001b[38;5;124;43menter a value for a\u001b[39;49m\u001b[38;5;124;43m\"\u001b[39;49m\u001b[43m)\u001b[49m\u001b[43m)\u001b[49m\n",
      "\u001b[0;31mValueError\u001b[0m: invalid literal for int() with base 10: 'vamshi'"
     ]
    }
   ],
   "source": [
    "a=int(input(\"enter a value for a\"))"
   ]
  },
  {
   "cell_type": "code",
   "execution_count": null,
   "id": "b1ab22f0-3835-4fd1-8387-38f5768a2fee",
   "metadata": {},
   "outputs": [],
   "source": [
    "l=[4,5,6,7,8,9,10]\n",
    "l1=[]\n",
    "def even_parser(l):\n",
    "    for i in l:\n",
    "        if i%2==0:\n",
    "            l1.append(i)\n",
    "    return l1\n",
    "            "
   ]
  },
  {
   "cell_type": "code",
   "execution_count": 4,
   "id": "9431a003-0ab5-423a-a0af-098c074e6541",
   "metadata": {},
   "outputs": [
    {
     "ename": "NameError",
     "evalue": "name 'even_parser' is not defined",
     "output_type": "error",
     "traceback": [
      "\u001b[0;31m---------------------------------------------------------------------------\u001b[0m",
      "\u001b[0;31mNameError\u001b[0m                                 Traceback (most recent call last)",
      "Cell \u001b[0;32mIn[4], line 1\u001b[0m\n\u001b[0;32m----> 1\u001b[0m \u001b[43meven_parser\u001b[49m(\u001b[38;5;241m5\u001b[39m)\n",
      "\u001b[0;31mNameError\u001b[0m: name 'even_parser' is not defined"
     ]
    }
   ],
   "source": [
    "even_parser(5)"
   ]
  },
  {
   "cell_type": "code",
   "execution_count": 8,
   "id": "df663c82-5661-4d22-ae6a-27ed41f359ae",
   "metadata": {},
   "outputs": [],
   "source": [
    "\n",
    "l=[4,5,6,7,8,9,10]\n",
    "l1=[]\n",
    "def even_parser(l):\n",
    "    try:\n",
    "        for i in l:\n",
    "            if i%2==0:\n",
    "                l1.append(i)\n",
    "        return l1\n",
    "    except:\n",
    "        pass\n",
    "    print(\"enter iterable object\")"
   ]
  },
  {
   "cell_type": "code",
   "execution_count": 10,
   "id": "7767b76f-738e-4acd-9457-db8716903bfd",
   "metadata": {},
   "outputs": [
    {
     "name": "stdout",
     "output_type": "stream",
     "text": [
      "enter iterable object\n",
      "something\n"
     ]
    }
   ],
   "source": [
    "even_parser(5)\n",
    "print(\"something\")"
   ]
  },
  {
   "cell_type": "code",
   "execution_count": 13,
   "id": "a9b62b13-2718-4916-b1af-ea50d28b6153",
   "metadata": {},
   "outputs": [
    {
     "name": "stdout",
     "output_type": "stream",
     "text": [
      "division by zero\n"
     ]
    }
   ],
   "source": [
    "try :\n",
    "    c=6/0\n",
    "except Exception as e:\n",
    "    print(e)"
   ]
  },
  {
   "cell_type": "code",
   "execution_count": 14,
   "id": "612aab9a-eb54-458a-a2ca-5e718ec6789f",
   "metadata": {},
   "outputs": [
    {
     "ename": "ZeroDivisionError",
     "evalue": "division by zero",
     "output_type": "error",
     "traceback": [
      "\u001b[0;31m---------------------------------------------------------------------------\u001b[0m",
      "\u001b[0;31mZeroDivisionError\u001b[0m                         Traceback (most recent call last)",
      "Cell \u001b[0;32mIn[14], line 1\u001b[0m\n\u001b[0;32m----> 1\u001b[0m c\u001b[38;5;241m=\u001b[39m\u001b[38;5;241;43m6\u001b[39;49m\u001b[38;5;241;43m/\u001b[39;49m\u001b[38;5;241;43m0\u001b[39;49m\n",
      "\u001b[0;31mZeroDivisionError\u001b[0m: division by zero"
     ]
    }
   ],
   "source": [
    "c=6/0"
   ]
  },
  {
   "cell_type": "code",
   "execution_count": 15,
   "id": "22e2ec62-fb45-4ed7-b7c4-e90aecfeb20c",
   "metadata": {},
   "outputs": [
    {
     "name": "stdin",
     "output_type": "stream",
     "text": [
      " 3\n",
      " 0\n"
     ]
    },
    {
     "name": "stdout",
     "output_type": "stream",
     "text": [
      "division by zero\n"
     ]
    }
   ],
   "source": [
    "try:\n",
    "    a=int(input())\n",
    "    b=int(input())\n",
    "    c=a/b\n",
    "except Exception as e:\n",
    "    print(e)"
   ]
  },
  {
   "cell_type": "code",
   "execution_count": 16,
   "id": "8b0bb61f-7f36-4c41-bc40-3f14c2cc16c3",
   "metadata": {},
   "outputs": [
    {
     "ename": "ZeroDivisionError",
     "evalue": "division by zero",
     "output_type": "error",
     "traceback": [
      "\u001b[0;31m---------------------------------------------------------------------------\u001b[0m",
      "\u001b[0;31mZeroDivisionError\u001b[0m                         Traceback (most recent call last)",
      "Cell \u001b[0;32mIn[16], line 1\u001b[0m\n\u001b[0;32m----> 1\u001b[0m c\u001b[38;5;241m=\u001b[39m\u001b[38;5;241;43m6\u001b[39;49m\u001b[38;5;241;43m/\u001b[39;49m\u001b[38;5;241;43m0\u001b[39;49m\n",
      "\u001b[0;31mZeroDivisionError\u001b[0m: division by zero"
     ]
    }
   ],
   "source": [
    "c=6/0"
   ]
  },
  {
   "cell_type": "code",
   "execution_count": 4,
   "id": "38bc2550-7b92-4001-9d3d-7cdd4432e312",
   "metadata": {},
   "outputs": [
    {
     "name": "stdin",
     "output_type": "stream",
     "text": [
      " 1\n",
      " 0\n"
     ]
    },
    {
     "name": "stdout",
     "output_type": "stream",
     "text": [
      "division by zero\n"
     ]
    }
   ],
   "source": [
    "try:\n",
    "    a=int(input())\n",
    "    b=int(input())\n",
    "    c=a/b\n",
    "except Exception as e:  #exception is super class but as good coder whenever we deal with handling we need to specify specific class\n",
    "    print(e)"
   ]
  },
  {
   "cell_type": "code",
   "execution_count": 12,
   "id": "319e6c12-0701-4631-a4a0-312f4a481cee",
   "metadata": {},
   "outputs": [
    {
     "name": "stdin",
     "output_type": "stream",
     "text": [
      " vamh\n"
     ]
    },
    {
     "name": "stdout",
     "output_type": "stream",
     "text": [
      "invalid literal for int() with base 10: 'vamh'\n"
     ]
    }
   ],
   "source": [
    "try:\n",
    "    a=int(input())\n",
    "    b=int(input())\n",
    "    c=a/b\n",
    "except TypeError as t:\n",
    "    print(t)\n",
    "except ZeroDivisionError as z:\n",
    "    print(z)\n",
    "except ValueError as v:\n",
    "    print(v)"
   ]
  },
  {
   "cell_type": "code",
   "execution_count": 13,
   "id": "8b99f5f3-be09-4596-a63f-bdfaec5058ff",
   "metadata": {},
   "outputs": [
    {
     "name": "stdin",
     "output_type": "stream",
     "text": [
      " 10\n",
      " 0\n"
     ]
    },
    {
     "name": "stdout",
     "output_type": "stream",
     "text": [
      "division by zero\n"
     ]
    }
   ],
   "source": [
    "try:\n",
    "    a=int(input())\n",
    "    b=int(input())\n",
    "    c=a/b\n",
    "except TypeError as t:\n",
    "    print(t)\n",
    "except ZeroDivisionError as z:\n",
    "    print(z)\n",
    "except ValueError as v:\n",
    "    print(v)"
   ]
  },
  {
   "cell_type": "code",
   "execution_count": 16,
   "id": "13308d1c-5cef-453f-aefb-f9d7bc0b6db9",
   "metadata": {},
   "outputs": [
    {
     "name": "stdout",
     "output_type": "stream",
     "text": [
      "division by zero\n",
      "invalid literal for int() with base 10: 'vamshi'\n"
     ]
    }
   ],
   "source": [
    "try:\n",
    "    x=5/0\n",
    "except ZeroDivisionError as z:\n",
    "    print(z)\n",
    "    try:\n",
    "        y=int(\"vamshi\")\n",
    "    except ValueError as v:\n",
    "        print(v)"
   ]
  },
  {
   "cell_type": "code",
   "execution_count": 1,
   "id": "48322ff0-8377-4bce-be73-32444cfba843",
   "metadata": {},
   "outputs": [
    {
     "name": "stdout",
     "output_type": "stream",
     "text": [
      "division by zero\n"
     ]
    }
   ],
   "source": [
    "  try:\n",
    "    x=5/0\n",
    "except ZeroDivisionError as z:\n",
    "    print(z)\n",
    "else:\n",
    "    print(\"this will execute itself once try will execute without and error\")"
   ]
  },
  {
   "cell_type": "code",
   "execution_count": 4,
   "id": "eac77b29-03d9-47d0-8859-b9a0a7734e47",
   "metadata": {},
   "outputs": [
    {
     "name": "stdout",
     "output_type": "stream",
     "text": [
      "this will execute itself once try will execute without and error\n",
      "this will be executed always\n"
     ]
    }
   ],
   "source": [
    "  try:  #like if statement\n",
    "    x=5/1\n",
    "except ZeroDivisionError as z:\n",
    "    print(z)\n",
    "else:   #this will execute in case of success\n",
    "    print(\"this will execute itself once try will execute without and error\")\n",
    "finally:  #execute all the time\n",
    "    print(\"this will be executed always\")"
   ]
  },
  {
   "cell_type": "code",
   "execution_count": 7,
   "id": "1495ae85-7943-491a-9ffc-6a4530d564b8",
   "metadata": {},
   "outputs": [
    {
     "name": "stdout",
     "output_type": "stream",
     "text": [
      "division by zero\n",
      "this will be executed always\n"
     ]
    }
   ],
   "source": [
    "#FINALLY\n",
    "try:  #like if statement\n",
    "    x=5/0\n",
    "except ZeroDivisionError as z:\n",
    "    print(z)\n",
    "else:   #this will execute in case of success\n",
    "    print(\"this will execute itself once try will execute without and error\")\n",
    "finally:  #execute all the time\n",
    "    print(\"this will be executed always\")  #whatever you like to execute even if try is going to fail"
   ]
  },
  {
   "cell_type": "code",
   "execution_count": 17,
   "id": "561fb20c-1c14-4949-b9e4-a372ebc2f6ba",
   "metadata": {},
   "outputs": [
    {
     "name": "stdout",
     "output_type": "stream",
     "text": [
      "'course'\n"
     ]
    }
   ],
   "source": [
    "\n",
    "try:\n",
    "    d={\"name\":\"vamshi\",\"mobile_no\":23432,\"email_id\":\"vam@gmail.com\"}\n",
    "    d[\"course\"]\n",
    "except Exception as e:\n",
    "    print(e)  #print internal messages\n"
   ]
  },
  {
   "cell_type": "code",
   "execution_count": 9,
   "id": "ade2f586-e37e-4ec5-9f81-dd6d83a36ac4",
   "metadata": {},
   "outputs": [
    {
     "data": {
      "text/plain": [
       "{'name': 'vamshi', 'mobile_no': 23432, 'email_id': 'vam@gmail.com'}"
      ]
     },
     "execution_count": 9,
     "metadata": {},
     "output_type": "execute_result"
    }
   ],
   "source": [
    "d"
   ]
  },
  {
   "cell_type": "code",
   "execution_count": 18,
   "id": "9c596e06-6dd0-4c34-814e-ad2f2ec9ef13",
   "metadata": {},
   "outputs": [
    {
     "name": "stdout",
     "output_type": "stream",
     "text": [
      "this is a keyerror\n"
     ]
    }
   ],
   "source": [
    "\n",
    "try:\n",
    "    d={\"name\":\"vamshi\",\"mobile_no\":23432,\"email_id\":\"vam@gmail.com\"}\n",
    "    d[\"course\"]\n",
    "except Exception:\n",
    "    print(\"this is a keyerror\")  #print a mesage i would like to give"
   ]
  },
  {
   "cell_type": "code",
   "execution_count": 23,
   "id": "45f49c71-d0d2-4959-bc17-71c58c89e42d",
   "metadata": {},
   "outputs": [
    {
     "name": "stdout",
     "output_type": "stream",
     "text": [
      "list index out of range\n"
     ]
    }
   ],
   "source": [
    "try:\n",
    "    l=[4,5,6,7,1,3,4]\n",
    "\n",
    "    l[10]\n",
    "except Exception as e:\n",
    "    print(e)"
   ]
  },
  {
   "cell_type": "code",
   "execution_count": 25,
   "id": "bdeb7472-2a29-45df-8887-00a26daf454b",
   "metadata": {},
   "outputs": [
    {
     "name": "stdout",
     "output_type": "stream",
     "text": [
      "invalid literal for int() with base 10: 'vamshi'\n"
     ]
    }
   ],
   "source": [
    "try:\n",
    "    a= \"vamshi\"\n",
    "    int(a)\n",
    "except Exception as e:\n",
    "    print(e)"
   ]
  },
  {
   "cell_type": "code",
   "execution_count": 30,
   "id": "9dc507b6-bf66-4f39-ab88-0a0a27b58697",
   "metadata": {},
   "outputs": [
    {
     "data": {
      "text/plain": [
       "'ghgdjsdjsajhajh\\nasnkjhsa'"
      ]
     },
     "execution_count": 30,
     "metadata": {},
     "output_type": "execute_result"
    }
   ],
   "source": [
    "file_name=\"vamshi.txt\"\n",
    "f=open(file_name)\n",
    "f.read()"
   ]
  },
  {
   "cell_type": "code",
   "execution_count": 32,
   "id": "6938af0a-c100-423a-9e24-92ea00f97ae1",
   "metadata": {},
   "outputs": [
    {
     "ename": "FileNotFoundError",
     "evalue": "[Errno 2] No such file or directory: 'vamshi.txt'",
     "output_type": "error",
     "traceback": [
      "\u001b[0;31m---------------------------------------------------------------------------\u001b[0m",
      "\u001b[0;31mFileNotFoundError\u001b[0m                         Traceback (most recent call last)",
      "Cell \u001b[0;32mIn[32], line 2\u001b[0m\n\u001b[1;32m      1\u001b[0m file_name\u001b[38;5;241m=\u001b[39m\u001b[38;5;124m\"\u001b[39m\u001b[38;5;124mvamshi.txt\u001b[39m\u001b[38;5;124m\"\u001b[39m\n\u001b[0;32m----> 2\u001b[0m f\u001b[38;5;241m=\u001b[39m\u001b[38;5;28;43mopen\u001b[39;49m\u001b[43m(\u001b[49m\u001b[43mfile_name\u001b[49m\u001b[43m)\u001b[49m\n\u001b[1;32m      3\u001b[0m f\u001b[38;5;241m.\u001b[39mread()\n",
      "File \u001b[0;32m/opt/conda/lib/python3.10/site-packages/IPython/core/interactiveshell.py:282\u001b[0m, in \u001b[0;36m_modified_open\u001b[0;34m(file, *args, **kwargs)\u001b[0m\n\u001b[1;32m    275\u001b[0m \u001b[38;5;28;01mif\u001b[39;00m file \u001b[38;5;129;01min\u001b[39;00m {\u001b[38;5;241m0\u001b[39m, \u001b[38;5;241m1\u001b[39m, \u001b[38;5;241m2\u001b[39m}:\n\u001b[1;32m    276\u001b[0m     \u001b[38;5;28;01mraise\u001b[39;00m \u001b[38;5;167;01mValueError\u001b[39;00m(\n\u001b[1;32m    277\u001b[0m         \u001b[38;5;124mf\u001b[39m\u001b[38;5;124m\"\u001b[39m\u001b[38;5;124mIPython won\u001b[39m\u001b[38;5;124m'\u001b[39m\u001b[38;5;124mt let you open fd=\u001b[39m\u001b[38;5;132;01m{\u001b[39;00mfile\u001b[38;5;132;01m}\u001b[39;00m\u001b[38;5;124m by default \u001b[39m\u001b[38;5;124m\"\u001b[39m\n\u001b[1;32m    278\u001b[0m         \u001b[38;5;124m\"\u001b[39m\u001b[38;5;124mas it is likely to crash IPython. If you know what you are doing, \u001b[39m\u001b[38;5;124m\"\u001b[39m\n\u001b[1;32m    279\u001b[0m         \u001b[38;5;124m\"\u001b[39m\u001b[38;5;124myou can use builtins\u001b[39m\u001b[38;5;124m'\u001b[39m\u001b[38;5;124m open.\u001b[39m\u001b[38;5;124m\"\u001b[39m\n\u001b[1;32m    280\u001b[0m     )\n\u001b[0;32m--> 282\u001b[0m \u001b[38;5;28;01mreturn\u001b[39;00m \u001b[43mio_open\u001b[49m\u001b[43m(\u001b[49m\u001b[43mfile\u001b[49m\u001b[43m,\u001b[49m\u001b[43m \u001b[49m\u001b[38;5;241;43m*\u001b[39;49m\u001b[43margs\u001b[49m\u001b[43m,\u001b[49m\u001b[43m \u001b[49m\u001b[38;5;241;43m*\u001b[39;49m\u001b[38;5;241;43m*\u001b[39;49m\u001b[43mkwargs\u001b[49m\u001b[43m)\u001b[49m\n",
      "\u001b[0;31mFileNotFoundError\u001b[0m: [Errno 2] No such file or directory: 'vamshi.txt'"
     ]
    }
   ],
   "source": [
    "file_name=\"vamshi.txt\"  #we kept that in pro folder\n",
    "f=open(file_name)\n",
    "f.read()"
   ]
  },
  {
   "cell_type": "code",
   "execution_count": 34,
   "id": "a16ece96-60b5-4b7d-996b-abffc67b515c",
   "metadata": {},
   "outputs": [
    {
     "name": "stdout",
     "output_type": "stream",
     "text": [
      "'23 sep while loop and recursion revision.ipynb'\n",
      "'24th september recursion,iterator,generator.ipynb'\n",
      "'Assignment 2.ipynb'\n",
      " assignment3.ipynb\n",
      "'brake,continue,functions-lot of assignments.ipynb'\n",
      "'conditional statements assignment.ipynb'\n",
      "'conditional statements.ipynb'\n",
      "'data types assignment.ipynb'\n",
      "'exception handling and logging.ipynb'\n",
      "'for and functions assignment.ipynb'\n",
      "'for loop assignment.ipynb'\n",
      "'Lamda functions and types of arguements.ipynb'\n",
      "'operators and control flow.ipynb'\n",
      " Operators.ipynb\n",
      " pATTERNS.ipynb\n",
      " \u001b[0m\u001b[01;34mpro\u001b[0m/\n",
      "'Python basic Data types(list,set,tuple,string,dictionary) 20 august.ipynb'\n",
      " README.md\n",
      " sample-code.ipynb\n",
      "'sudh Conditional statements and loops by sudhanshu 16 sep.ipynb'\n",
      "'SUDH for,lamda,map,reduce,filter,recursion 4hr class.ipynb'\n",
      " text.txt\n",
      " Untitled2.ipynb\n"
     ]
    }
   ],
   "source": [
    "ls #IT LISTS THE ALL FOLDERS"
   ]
  },
  {
   "cell_type": "code",
   "execution_count": 37,
   "id": "46d0003e-63a1-4d4f-95c4-eb1971b4ed24",
   "metadata": {},
   "outputs": [
    {
     "name": "stdout",
     "output_type": "stream",
     "text": [
      "total 924\n",
      "-rw-r--r-- 1 jovyan users  27887 Sep 27 23:07 '23 sep while loop and recursion revision.ipynb'\n",
      "-rw-r--r-- 1 jovyan users  64615 Sep 25 23:48 '24th september recursion,iterator,generator.ipynb'\n",
      "-rw-r--r-- 1 jovyan users  78532 Sep 27 23:54 'Assignment 2.ipynb'\n",
      "-rw-r--r-- 1 jovyan users  49872 Oct  3 20:07  assignment3.ipynb\n",
      "-rw-r--r-- 1 jovyan users  47980 Sep 20 14:43 'brake,continue,functions-lot of assignments.ipynb'\n",
      "-rw-r--r-- 1 jovyan users  57972 Oct  6 13:44 'conditional statements assignment.ipynb'\n",
      "-rw-r--r-- 1 jovyan users  34116 Sep 18 23:39 'conditional statements.ipynb'\n",
      "-rw-r--r-- 1 jovyan users  78532 Sep 27 23:54 'data types assignment.ipynb'\n",
      "-rw-r--r-- 1 jovyan users  29365 Oct 18 17:17 'exception handling and logging.ipynb'\n",
      "-rw-r--r-- 1 jovyan users 107246 Oct  8 12:41 'for and functions assignment.ipynb'\n",
      "-rw-r--r-- 1 jovyan users  17336 Oct  5 12:23 'for loop assignment.ipynb'\n",
      "-rw-r--r-- 1 jovyan users  45669 Sep 20 21:58 'Lamda functions and types of arguements.ipynb'\n",
      "-rw-r--r-- 1 jovyan users  13395 Sep 18 19:47 'operators and control flow.ipynb'\n",
      "-rw-r--r-- 1 jovyan users  34712 Sep 17 14:02  Operators.ipynb\n",
      "-rw-r--r-- 1 jovyan users   1441 Oct  4 18:27  pATTERNS.ipynb\n",
      "drwxr-xr-x 3 jovyan users   4096 Oct 18 17:15  \u001b[0m\u001b[01;34mpro\u001b[0m/\n",
      "-rw-r--r-- 1 jovyan users  82164 Sep 24 10:48 'Python basic Data types(list,set,tuple,string,dictionary) 20 august.ipynb'\n",
      "-rw-r--r-- 1 jovyan users    198 Sep 15 13:01  README.md\n",
      "-rw-r--r-- 1 jovyan users   3151 Sep 15 13:01  sample-code.ipynb\n",
      "-rw-r--r-- 1 jovyan users  24401 Sep 21 18:02 'sudh Conditional statements and loops by sudhanshu 16 sep.ipynb'\n",
      "-rw-r--r-- 1 jovyan users  65125 Oct  6 20:30 'SUDH for,lamda,map,reduce,filter,recursion 4hr class.ipynb'\n",
      "-rw-r--r-- 1 jovyan users  10980 Sep 25 23:31  text.txt\n",
      "-rw-r--r-- 1 jovyan users  16061 Sep 21 23:54  Untitled2.ipynb\n"
     ]
    }
   ],
   "source": [
    "ls-l  #l list linux commanmd"
   ]
  },
  {
   "cell_type": "code",
   "execution_count": 40,
   "id": "eef14d8a-793f-4a28-addd-6781becc977f",
   "metadata": {},
   "outputs": [
    {
     "data": {
      "text/plain": [
       "'/home/jovyan/work'"
      ]
     },
     "execution_count": 40,
     "metadata": {},
     "output_type": "execute_result"
    }
   ],
   "source": [
    "pwd    #PRESENT WORKING DIRECTORY #WHILE WATCHING MOVIES ALSO WE NEED TO GO TO FOLDER---SEP--OCT9--RES"
   ]
  },
  {
   "cell_type": "code",
   "execution_count": 44,
   "id": "c20454e4-575e-4120-8c3c-32eeed56088b",
   "metadata": {},
   "outputs": [
    {
     "data": {
      "text/plain": [
       "'ghgdjsdjsajhajh\\nasnkjhsa'"
      ]
     },
     "execution_count": 44,
     "metadata": {},
     "output_type": "execute_result"
    }
   ],
   "source": [
    "#IF FILE IS IN FOLDER WE NEED TO PROVIDE CURRENT WORKING DIRECTORY\n",
    "file_name=\"/home/jovyan/work/pro/vamshi.txt\"  #provide dirctory and provide file location\n",
    "f=open(file_name)\n",
    "f.read()"
   ]
  },
  {
   "cell_type": "code",
   "execution_count": 67,
   "id": "4d57baaf-123d-4bca-8e1c-02c4d43a9d31",
   "metadata": {},
   "outputs": [
    {
     "data": {
      "text/plain": [
       "<_io.TextIOWrapper name='/home/jovyan/work/pro1/pro2/vamshi.txt' mode='r' encoding='UTF-8'>"
      ]
     },
     "execution_count": 67,
     "metadata": {},
     "output_type": "execute_result"
    }
   ],
   "source": [
    "open('/home/jovyan/work/pro1/pro2/vamshi.txt')"
   ]
  },
  {
   "cell_type": "code",
   "execution_count": 68,
   "id": "2b2ab2a2-f6b4-4753-9673-8c22229d455e",
   "metadata": {},
   "outputs": [
    {
     "name": "stdout",
     "output_type": "stream",
     "text": [
      "/home/jovyan/work/pro\n"
     ]
    }
   ],
   "source": [
    "cd pro"
   ]
  },
  {
   "cell_type": "code",
   "execution_count": 69,
   "id": "06a9792e-05a9-45f6-bf18-3a29ea0aec01",
   "metadata": {},
   "outputs": [
    {
     "data": {
      "text/plain": [
       "'/home/jovyan/work/pro'"
      ]
     },
     "execution_count": 69,
     "metadata": {},
     "output_type": "execute_result"
    }
   ],
   "source": [
    "pwd"
   ]
  },
  {
   "cell_type": "code",
   "execution_count": 76,
   "id": "c8eeaca3-ddb8-4cfe-a8f5-bedfc2fdeebe",
   "metadata": {},
   "outputs": [
    {
     "data": {
      "text/plain": [
       "<_io.TextIOWrapper name='vamshi.txt' mode='r' encoding='UTF-8'>"
      ]
     },
     "execution_count": 76,
     "metadata": {},
     "output_type": "execute_result"
    }
   ],
   "source": [
    "open('vamshi.txt')"
   ]
  },
  {
   "cell_type": "code",
   "execution_count": 78,
   "id": "fbcfe9cb-ccc4-47e5-bb0a-f2a2317e658f",
   "metadata": {},
   "outputs": [
    {
     "name": "stdout",
     "output_type": "stream",
     "text": [
      "/home/jovyan/work\n"
     ]
    }
   ],
   "source": [
    "cd .."
   ]
  },
  {
   "cell_type": "code",
   "execution_count": 79,
   "id": "af82d040-d05b-4128-aa24-5f9cd5e4a9e6",
   "metadata": {},
   "outputs": [
    {
     "name": "stdout",
     "output_type": "stream",
     "text": [
      "/home/jovyan\n"
     ]
    }
   ],
   "source": [
    "cd .."
   ]
  },
  {
   "cell_type": "code",
   "execution_count": 80,
   "id": "3187822d-620a-4b46-8d68-fbea53e9e0a2",
   "metadata": {},
   "outputs": [
    {
     "name": "stdout",
     "output_type": "stream",
     "text": [
      "/home\n"
     ]
    }
   ],
   "source": [
    "cd .."
   ]
  },
  {
   "cell_type": "code",
   "execution_count": 83,
   "id": "4c86e38d-58d7-47c0-92d6-16558d5a3f2e",
   "metadata": {},
   "outputs": [
    {
     "name": "stdout",
     "output_type": "stream",
     "text": [
      "[Errno 2] No such file or directory: '.. #to back directory'\n",
      "/\n"
     ]
    }
   ],
   "source": [
    "cd .. #to back directory"
   ]
  },
  {
   "cell_type": "code",
   "execution_count": 84,
   "id": "39b901de-7f1a-4fdf-8f32-b5217ca1db51",
   "metadata": {},
   "outputs": [
    {
     "data": {
      "text/plain": [
       "<_io.TextIOWrapper name='/home/jovyan/work/pro1/pro2/vamshi.txt' mode='r' encoding='UTF-8'>"
      ]
     },
     "execution_count": 84,
     "metadata": {},
     "output_type": "execute_result"
    }
   ],
   "source": [
    "open('/home/jovyan/work/pro1/pro2/vamshi.txt')"
   ]
  },
  {
   "cell_type": "code",
   "execution_count": 94,
   "id": "6a2ac253-49e5-448a-8419-5cd80d00c46d",
   "metadata": {},
   "outputs": [
    {
     "name": "stdin",
     "output_type": "stream",
     "text": [
      "enter a number fafsf\n"
     ]
    },
    {
     "name": "stdout",
     "output_type": "stream",
     "text": [
      "user has entered invalid input\n"
     ]
    }
   ],
   "source": [
    "#nested try\n",
    "try:\n",
    "    n=int(input(\"enter a number\"))\n",
    "    div = 342/n\n",
    "    print(div)\n",
    "except ValueError:\n",
    "    print(\"user has entered invalid input\")\n",
    "except ZeroDivisionError:\n",
    "    print(\"user has entered zero\")"
   ]
  },
  {
   "cell_type": "code",
   "execution_count": 97,
   "id": "75f14ee1-a04f-48cd-a05d-5978ea49436e",
   "metadata": {},
   "outputs": [
    {
     "name": "stdin",
     "output_type": "stream",
     "text": [
      "enter a number 0\n"
     ]
    },
    {
     "name": "stdout",
     "output_type": "stream",
     "text": [
      "user has entered invalid input or zero\n"
     ]
    }
   ],
   "source": [
    "#to show multiple errors\n",
    "try:\n",
    "    n=int(input(\"enter a number\"))\n",
    "    div = 342/n\n",
    "    print(div)\n",
    "except (ValueError, ZeroDivisionError):\n",
    "    print(\"user has entered invalid input or zero\")\n"
   ]
  },
  {
   "cell_type": "code",
   "execution_count": 101,
   "id": "8481a9e8-49fe-4a44-aa90-3dc34a55ad4c",
   "metadata": {},
   "outputs": [
    {
     "name": "stdin",
     "output_type": "stream",
     "text": [
      "enter a number hdfgsdf\n"
     ]
    },
    {
     "name": "stdout",
     "output_type": "stream",
     "text": [
      "user has entered invalid input\n"
     ]
    }
   ],
   "source": [
    "#try in try \n",
    "try:\n",
    "    try:\n",
    "        n=int(input(\"enter a number\"))\n",
    "        div = 342/n\n",
    "        print(div)\n",
    "    except ZeroDivisionError:\n",
    "        print(\"user has entered zero\")\n",
    "except ValueError:\n",
    "    print(\"user has entered invalid input\")\n",
    "#we have seen 3 different ways"
   ]
  },
  {
   "cell_type": "code",
   "execution_count": 103,
   "id": "8832f2bf-e416-4722-b428-b80d5f8d277f",
   "metadata": {},
   "outputs": [
    {
     "name": "stdin",
     "output_type": "stream",
     "text": [
      "enter a number hgfdgscghsd\n"
     ]
    },
    {
     "name": "stdout",
     "output_type": "stream",
     "text": [
      "invalid literal for int() with base 10: 'hgfdgscghsd'\n"
     ]
    }
   ],
   "source": [
    "#other simple way\n",
    "try:\n",
    "    n=int(input(\"enter a number\"))\n",
    "    div = 342/n\n",
    "    print(div)\n",
    "except Exception as e:\n",
    "    print(e)\n"
   ]
  },
  {
   "cell_type": "code",
   "execution_count": 104,
   "id": "0c0fdb1c-3491-4796-9b95-1a4a1fde63c7",
   "metadata": {},
   "outputs": [
    {
     "name": "stdin",
     "output_type": "stream",
     "text": [
      "enter a number 0\n"
     ]
    },
    {
     "name": "stdout",
     "output_type": "stream",
     "text": [
      "user has entered invalid input or zero\n"
     ]
    }
   ],
   "source": [
    "try:\n",
    "    n=int(input(\"enter a number\"))\n",
    "    div = 342/n\n",
    "    print(div)\n",
    "except Exception:\n",
    "     print(\"user has entered invalid input or zero\")"
   ]
  },
  {
   "cell_type": "code",
   "execution_count": 107,
   "id": "6d945388-06a5-45eb-9ce7-95f6a722cf29",
   "metadata": {},
   "outputs": [
    {
     "name": "stdin",
     "output_type": "stream",
     "text": [
      "enter a number 0\n"
     ]
    },
    {
     "name": "stdout",
     "output_type": "stream",
     "text": [
      "user has entered invalid input or zero\n"
     ]
    }
   ],
   "source": [
    "try:\n",
    "    n=int(input(\"enter a number\"))\n",
    "    div = 342/n\n",
    "    print(div)\n",
    "except Exception:\n",
    "     print(\"user has entered invalid input or zero\")\n",
    "else:  #if try block fails then only else block works\n",
    "    print(div)"
   ]
  },
  {
   "cell_type": "code",
   "execution_count": 109,
   "id": "cbcb30b6-2257-46fb-9abc-0532ed35b3c0",
   "metadata": {},
   "outputs": [
    {
     "name": "stdin",
     "output_type": "stream",
     "text": [
      "enter a number 54\n"
     ]
    },
    {
     "name": "stdout",
     "output_type": "stream",
     "text": [
      "6.333333333333333\n",
      "6.333333333333333\n"
     ]
    }
   ],
   "source": [
    "#here try correct so else works\n",
    "try:\n",
    "    n=int(input(\"enter a number\"))\n",
    "    div = 342/n\n",
    "    print(div)\n",
    "except Exception:\n",
    "     print(\"user has entered invalid input or zero\")\n",
    "else:  #if try block fails then only else block works\n",
    "    print(div)"
   ]
  },
  {
   "cell_type": "code",
   "execution_count": 110,
   "id": "055a7f4e-8c7d-4347-b199-e9e0a07e5e3a",
   "metadata": {},
   "outputs": [
    {
     "data": {
      "text/plain": [
       "'ghgdjsdjsajhajh\\nasnkjhsa'"
      ]
     },
     "execution_count": 110,
     "metadata": {},
     "output_type": "execute_result"
    }
   ],
   "source": [
    "f=open('/home/jovyan/work/pro1/pro2/vamshi.txt')\n",
    "f.read()"
   ]
  },
  {
   "cell_type": "code",
   "execution_count": 116,
   "id": "44723ec0-caac-4011-993c-e5059443f924",
   "metadata": {},
   "outputs": [
    {
     "data": {
      "text/plain": [
       "<_io.TextIOWrapper name='/home/jovyan/work/pro1/pro2/vamshi.txt' mode='r' encoding='UTF-8'>"
      ]
     },
     "execution_count": 116,
     "metadata": {},
     "output_type": "execute_result"
    }
   ],
   "source": [
    "f  #utf 8 means-standard english for coding for system #io means inputoutput buffer"
   ]
  },
  {
   "cell_type": "code",
   "execution_count": 4,
   "id": "415999e6-2a75-4225-aa8d-94322d438d25",
   "metadata": {},
   "outputs": [
    {
     "name": "stdout",
     "output_type": "stream",
     "text": [
      "file closed\n"
     ]
    }
   ],
   "source": [
    "try:\n",
    "    f = open('/home/jovyan/work/pro1/pro2/vamshi.txt')\n",
    "    f.read()\n",
    "except Exception:\n",
    "    print(\"there is some issue\")\n",
    "finally:\n",
    "    f.close()\n",
    "    print(\"file closed\")"
   ]
  },
  {
   "cell_type": "code",
   "execution_count": 5,
   "id": "1b5577aa-8f80-479b-9bcb-c737f477e058",
   "metadata": {},
   "outputs": [
    {
     "name": "stdout",
     "output_type": "stream",
     "text": [
      "there is some issue\n",
      "file closed\n"
     ]
    }
   ],
   "source": [
    "try:\n",
    "    f = open('/home/jovyan/work/pro1/pro2/vamshi.txt')\n",
    "    f.write(\"vams\")\n",
    "except Exception:\n",
    "    print(\"there is some issue\")\n",
    "finally:\n",
    "    f.close()\n",
    "    print(\"file closed\")"
   ]
  },
  {
   "cell_type": "code",
   "execution_count": 7,
   "id": "4359d958-c982-4ffb-a1ec-22a950d4764a",
   "metadata": {},
   "outputs": [
    {
     "name": "stdout",
     "output_type": "stream",
     "text": [
      "ghgdjsdjsajhajh\n",
      "asnkjhsa\n",
      "file closed\n"
     ]
    }
   ],
   "source": [
    "try:\n",
    "    f = open('/home/jovyan/work/pro1/pro2/vamshi.txt')\n",
    "    data=f.read()\n",
    "except Exception:\n",
    "    print(\"there is some issue\")\n",
    "else:\n",
    "    print(data)\n",
    "finally:\n",
    "    f.close()\n",
    "    print(\"file closed\")"
   ]
  },
  {
   "cell_type": "code",
   "execution_count": 9,
   "id": "5e151a0f-86d9-48c2-ae7e-984d0ee1d769",
   "metadata": {},
   "outputs": [
    {
     "name": "stdout",
     "output_type": "stream",
     "text": [
      "there is some issue\n",
      "file closed\n"
     ]
    }
   ],
   "source": [
    "try:\n",
    "    f = open('/home/jovyan/work/pro1/pro2/vamshi1.txt') #vamshi1 not available so that failed and except runned\n",
    "    data=f.read()\n",
    "except Exception:\n",
    "    print(\"there is some issue\")\n",
    "else:\n",
    "    print(data)\n",
    "finally:\n",
    "    f.close()\n",
    "    print(\"file closed\")"
   ]
  },
  {
   "cell_type": "code",
   "execution_count": 10,
   "id": "8cd2cdd5-22d8-4d68-b652-56db033c5e14",
   "metadata": {},
   "outputs": [
    {
     "data": {
      "text/plain": [
       "<_io.TextIOWrapper name='/home/jovyan/work/pro1/pro2/vamshi.txt' mode='r' encoding='UTF-8'>"
      ]
     },
     "execution_count": 10,
     "metadata": {},
     "output_type": "execute_result"
    }
   ],
   "source": [
    "f"
   ]
  },
  {
   "cell_type": "code",
   "execution_count": 11,
   "id": "b8f49134-d568-4420-805e-22170e91d8e2",
   "metadata": {},
   "outputs": [
    {
     "name": "stdout",
     "output_type": "stream",
     "text": [
      "there is some issue\n",
      "file closed\n"
     ]
    }
   ],
   "source": [
    "try:\n",
    "    f = open('/home/jovyan/work/pro1/pro2/vamshi.txt') #vamshi1 not available so that failed and except runned\n",
    "    data=f.write()\n",
    "except Exception:\n",
    "    print(\"there is some issue\")\n",
    "else:\n",
    "    print(data)\n",
    "finally:\n",
    "    f.close()\n",
    "    print(\"file closed\")"
   ]
  },
  {
   "cell_type": "code",
   "execution_count": 2,
   "id": "9a802f29-a55a-467d-b288-9a7995cbe9f6",
   "metadata": {},
   "outputs": [
    {
     "name": "stdout",
     "output_type": "stream",
     "text": [
      "there is some issue\n",
      "file closed\n"
     ]
    }
   ],
   "source": [
    "try:\n",
    "    f = open('/home/jovyan/work/pro1/pro2/vamshi.txt') #vamshi1 not available so that failed and except runned\n",
    "    data=f.write()\n",
    "except Exception:\n",
    "    print(\"there is some issue\")\n",
    "else:\n",
    "    print(data)\n",
    "finally:\n",
    "    try:\n",
    "        print(data)\n",
    "    except:\n",
    "        pass\n",
    "    f.close()\n",
    "    print(\"file closed\")"
   ]
  },
  {
   "cell_type": "code",
   "execution_count": 10,
   "id": "448709b5-7211-408c-bab9-ec6839b7abe0",
   "metadata": {},
   "outputs": [],
   "source": [
    "#CREATING OWN CUSTOM EXCEPTION BY USING RAISE"
   ]
  },
  {
   "cell_type": "code",
   "execution_count": 7,
   "id": "6cf8d45b-bff5-4861-9773-44cd32c3b3cf",
   "metadata": {},
   "outputs": [
    {
     "name": "stdin",
     "output_type": "stream",
     "text": [
      "enter height of the wall 3\n"
     ]
    }
   ],
   "source": [
    "try:\n",
    "    a = int(input(\"enter height of the wall\"))\n",
    "    if a <0:\n",
    "        raise ValueError(\"enter height is negative\")\n",
    "except ValueError as v:\n",
    "    print(v)"
   ]
  },
  {
   "cell_type": "code",
   "execution_count": 8,
   "id": "4cabea19-46dc-4f79-b4b8-44f3d9c0e62c",
   "metadata": {},
   "outputs": [
    {
     "name": "stdin",
     "output_type": "stream",
     "text": [
      "enter height of the wall -2\n"
     ]
    },
    {
     "name": "stdout",
     "output_type": "stream",
     "text": [
      "enter height is negative\n"
     ]
    }
   ],
   "source": [
    "try:\n",
    "    a = int(input(\"enter height of the wall\"))\n",
    "    if a <0:\n",
    "        raise ValueError(\"enter height is negative\")\n",
    "except ValueError as v:\n",
    "    print(v)"
   ]
  },
  {
   "cell_type": "code",
   "execution_count": 20,
   "id": "e2b97e0f-1deb-42ef-a95c-58d9023c3173",
   "metadata": {},
   "outputs": [],
   "source": [
    "def a(age):\n",
    "    try:\n",
    "        if age<0:\n",
    "            raise ValueError(\"user entered age is neagative which is invalid\")\n",
    "        elif age<=18:\n",
    "            raise ValueError(\"user is under age\")\n",
    "        else:\n",
    "            print(\"valid user\")\n",
    "    except ValueError as v:\n",
    "        print(v)\n",
    "    "
   ]
  },
  {
   "cell_type": "code",
   "execution_count": 21,
   "id": "2360a236-8f9b-44d6-afbc-fa1137e29792",
   "metadata": {},
   "outputs": [
    {
     "name": "stdout",
     "output_type": "stream",
     "text": [
      "user is under age\n"
     ]
    }
   ],
   "source": [
    "a(12)"
   ]
  },
  {
   "cell_type": "code",
   "execution_count": 22,
   "id": "eb22f686-56f8-4d71-b638-cfce1911ca35",
   "metadata": {},
   "outputs": [
    {
     "name": "stdout",
     "output_type": "stream",
     "text": [
      "user entered age is neagative which is invalid\n"
     ]
    }
   ],
   "source": [
    "a(-1)"
   ]
  },
  {
   "cell_type": "code",
   "execution_count": 23,
   "id": "2133c7d2-9a18-43fa-82f9-3ca144b4bdc5",
   "metadata": {},
   "outputs": [
    {
     "name": "stdout",
     "output_type": "stream",
     "text": [
      "user is under age\n"
     ]
    }
   ],
   "source": [
    "a(18)"
   ]
  },
  {
   "cell_type": "code",
   "execution_count": 19,
   "id": "4dd39e84-33e7-4d43-a849-450dd652beb9",
   "metadata": {},
   "outputs": [
    {
     "name": "stdout",
     "output_type": "stream",
     "text": [
      "valid user\n"
     ]
    }
   ],
   "source": [
    "a(23)"
   ]
  },
  {
   "cell_type": "code",
   "execution_count": 25,
   "id": "0a3c73e4-b176-434a-8a8e-de27329431f2",
   "metadata": {},
   "outputs": [],
   "source": [
    "def a(age):\n",
    "    try:\n",
    "        if age<0:\n",
    "            raise ValueError(\"user entered age is neagative which is invalid\")\n",
    "        elif age<=18:\n",
    "            raise Exception(\"user is under age\")\n",
    "        else:\n",
    "            print(\"valid user\")\n",
    "    except Exception as v:\n",
    "        print(v)"
   ]
  },
  {
   "cell_type": "code",
   "execution_count": 26,
   "id": "50753589-d643-44a6-8377-9f87a5a8792e",
   "metadata": {},
   "outputs": [
    {
     "name": "stdout",
     "output_type": "stream",
     "text": [
      "user is under age\n"
     ]
    }
   ],
   "source": [
    "a(18)"
   ]
  },
  {
   "cell_type": "code",
   "execution_count": 27,
   "id": "ca16f843-047b-4bad-8f39-3d313fa284f5",
   "metadata": {},
   "outputs": [
    {
     "name": "stdout",
     "output_type": "stream",
     "text": [
      "user entered age is neagative which is invalid\n"
     ]
    }
   ],
   "source": [
    "a(-28727)"
   ]
  },
  {
   "cell_type": "code",
   "execution_count": 28,
   "id": "53e4377c-0208-4eb9-9dd9-84c1fd9ff57f",
   "metadata": {},
   "outputs": [
    {
     "name": "stdout",
     "output_type": "stream",
     "text": [
      "valid user\n"
     ]
    }
   ],
   "source": [
    "a(45)"
   ]
  },
  {
   "cell_type": "markdown",
   "id": "45683d9b-9cea-4339-bd27-64f40627366c",
   "metadata": {},
   "source": [
    "LOGGING  ---- we are trying t6o store messages in file system ---so that we can refer ----in production we cant use print statement--its not storing\n",
    "keep track of each and everything\n",
    "#import looging is must"
   ]
  },
  {
   "cell_type": "code",
   "execution_count": 4,
   "id": "0bdd1788-6176-41e8-a106-d4e1c40dfa78",
   "metadata": {},
   "outputs": [],
   "source": [
    "import logging as log"
   ]
  },
  {
   "cell_type": "code",
   "execution_count": 5,
   "id": "ae18af04-3cbb-4cba-baae-63bbaa2cbaac",
   "metadata": {},
   "outputs": [],
   "source": [
    "log.basicConfig(filename=\"test.log\",level=log.INFO)"
   ]
  },
  {
   "cell_type": "code",
   "execution_count": 6,
   "id": "a7c01c3a-ded9-4305-900d-56ec4fcb5c61",
   "metadata": {},
   "outputs": [],
   "source": [
    "log.info(\"store a message\") #test.log file created"
   ]
  },
  {
   "cell_type": "raw",
   "id": "10637566-a87a-4f04-a387-167837d35c21",
   "metadata": {},
   "source": [
    "#LAvEL 5 TYPES\n",
    "1.DEBUG -10\n",
    "2.INFO -20\n",
    "3.WARNING-30\n",
    "4.ERROR-40\n",
    "5.CRITICAL-50"
   ]
  },
  {
   "cell_type": "code",
   "execution_count": 7,
   "id": "49ebe48f-ab0c-4143-8178-b64e5aeb391f",
   "metadata": {},
   "outputs": [],
   "source": [
    "log.debug(\"this is a debug\")"
   ]
  },
  {
   "cell_type": "code",
   "execution_count": 8,
   "id": "f2cb8947-d019-4489-914c-5a1c64bb2273",
   "metadata": {},
   "outputs": [],
   "source": [
    "log.warning(\"this is my warning\")"
   ]
  },
  {
   "cell_type": "code",
   "execution_count": 10,
   "id": "fbb68f51-6616-4f17-9bc5-49a0df7b45d4",
   "metadata": {},
   "outputs": [],
   "source": [
    "log.error(\"this is error mesg\")"
   ]
  },
  {
   "cell_type": "code",
   "execution_count": 11,
   "id": "85617910-6663-44cd-8ff7-822790f9f566",
   "metadata": {},
   "outputs": [],
   "source": [
    "log.critical(\"this is critical msg\")"
   ]
  },
  {
   "cell_type": "code",
   "execution_count": 6,
   "id": "7a383a35-7876-48c7-bc57-696d8fa2be13",
   "metadata": {},
   "outputs": [
    {
     "name": "stdin",
     "output_type": "stream",
     "text": [
      "enter your age -134\n"
     ]
    }
   ],
   "source": [
    "import logging\n",
    "logging.basicConfig(filename=\"trytest.log\",level=logging.DEBUG)\n",
    "try:\n",
    "    logging.info(\"this is a start of my program\")\n",
    "    logging.info(\"asking user to enter age\")\n",
    "    age=int(input(\"enter your age\"))\n",
    "    logging.info(\"user has entered the age= %d\",age)\n",
    "    if age<0:\n",
    "        logging.info(\"i am checking negative condition\")\n",
    "        raise ValueError(\"user entered age is neagative which is not valid\")\n",
    "    elif age<=18:\n",
    "        logging.info(\"i am trying to check underage condition\")\n",
    "        raise Exception(\"user is under age\")\n",
    "    else:\n",
    "        logging.info(\"valid user\")\n",
    "except Exception as v:\n",
    "    logging.error(v)"
   ]
  },
  {
   "cell_type": "code",
   "execution_count": 7,
   "id": "f9371d3c-86dc-4808-be37-c9846d6d5d35",
   "metadata": {},
   "outputs": [],
   "source": [
    "#check test.login file-----previous done step by step also captured"
   ]
  },
  {
   "cell_type": "code",
   "execution_count": 1,
   "id": "82505796-30d6-4f17-9243-818e45f1beea",
   "metadata": {},
   "outputs": [
    {
     "name": "stdin",
     "output_type": "stream",
     "text": [
      "enter your age 134\n"
     ]
    }
   ],
   "source": [
    "#to store only timings of error/execution USING FORMAT---showing the server time\n",
    "import logging\n",
    "logging.basicConfig(filename='trytest.log',level=logging.DEBUG,format='%(asctime)s)')\n",
    "try:\n",
    "    logging.info(\"this is a start of my program\")\n",
    "    logging.info(\"asking user to enter age\")\n",
    "    age=int(input(\"enter your age\"))\n",
    "    logging.info(\"user has entered the age= %d\",age)\n",
    "    if age<0:\n",
    "        logging.info(\"i am checking negative condition\")\n",
    "        raise ValueError(\"user entered age is neagative which is not valid\")\n",
    "    elif age<=18:\n",
    "        logging.info(\"i am trying to check underage condition\")\n",
    "        raise Exception(\"user is under age\")\n",
    "    else:\n",
    "        logging.info(\"valid user\")\n",
    "except Exception as v:\n",
    "    logging.error(v)"
   ]
  },
  {
   "cell_type": "code",
   "execution_count": 1,
   "id": "c3fafc00-07f8-4bc4-bf56-533e75fab98c",
   "metadata": {},
   "outputs": [
    {
     "name": "stdin",
     "output_type": "stream",
     "text": [
      "enter your age 123\n"
     ]
    }
   ],
   "source": [
    "#to store only timings & messages also of error/execution USING FORMAT---showing the server time\n",
    "import logging\n",
    "logging.basicConfig(filename='trytest.log',level=logging.DEBUG,format='%(asctime)s-%(message)s')\n",
    "try:\n",
    "    logging.info(\"this is a start of my program\")\n",
    "    logging.info(\"asking user to enter age\")\n",
    "    age=int(input(\"enter your age\"))\n",
    "    logging.info(\"user has entered the age= %d\",age)\n",
    "    if age<0:\n",
    "        logging.info(\"i am checking negative condition\")\n",
    "        raise ValueError(\"user entered age is neagative which is not valid\")\n",
    "    elif age<=18:\n",
    "        logging.info(\"i am trying to check underage condition\")\n",
    "        raise Exception(\"user is under age\")\n",
    "    else:\n",
    "        logging.info(\"valid user\")\n",
    "except Exception as v:\n",
    "    logging.error(v)"
   ]
  },
  {
   "cell_type": "code",
   "execution_count": 4,
   "id": "a7d3c195-361a-4050-99e8-c9d9aee09896",
   "metadata": {},
   "outputs": [
    {
     "name": "stdin",
     "output_type": "stream",
     "text": [
      "enter your age -123\n"
     ]
    }
   ],
   "source": [
    "#to store only timings & messages &level number also of error/execution USING FORMAT---showing the server time\n",
    "import logging\n",
    "logging.basicConfig(filename='trytest.log',level=logging.DEBUG,format='%(asctime)s-%(levelname)s-%(message)s')\n",
    "try:\n",
    "    logging.info(\"this is a start of my program\")\n",
    "    logging.info(\"asking user to enter age\")\n",
    "    age=int(input(\"enter your age\"))\n",
    "    logging.info(\"user has entered the age= %d\",age)\n",
    "    if age<0:\n",
    "        logging.info(\"i am checking negative condition\")\n",
    "        raise ValueError(\"user entered age is neagative which is not valid\")\n",
    "    elif age<=18:\n",
    "        logging.info(\"i am trying to check underage condition\")\n",
    "        raise Exception(\"user is under age\")\n",
    "    else:\n",
    "        logging.info(\"valid user\")\n",
    "except Exception as v:\n",
    "    logging.error(v)"
   ]
  },
  {
   "cell_type": "code",
   "execution_count": 2,
   "id": "98ee4925-c629-4e16-8a5d-6d311af581bb",
   "metadata": {},
   "outputs": [],
   "source": [
    "import logging\n",
    "logging.basicConfig(filename='even_parse.log',level=logging.DEBUG,format='%(asctime)s-%(levelname)s-%(message)s')\n",
    "l=[4,5,6,7,8,9,10]\n",
    "logging.info(l)\n",
    "l1=[]\n",
    "def even_parser(l):\n",
    "    try:\n",
    "        logging.info(\"inside try block\")\n",
    "        for i in l:\n",
    "            logging.info(\"inside for loop i=%d\",i)\n",
    "            if i%2==0:\n",
    "                logging.info(\"checking value of i\")\n",
    "                l1.append(i)\n",
    "                logging.info(\"appending the value i=%d\",i)\n",
    "        return l1\n",
    "    except Exception as e:\n",
    "        logging.error(e)"
   ]
  },
  {
   "cell_type": "code",
   "execution_count": 3,
   "id": "93607186-97e6-4c7b-8cc8-b0c50481e8f5",
   "metadata": {},
   "outputs": [
    {
     "data": {
      "text/plain": [
       "[4, 6, 8, 10]"
      ]
     },
     "execution_count": 3,
     "metadata": {},
     "output_type": "execute_result"
    }
   ],
   "source": [
    "even_parser(l) #you have complete track of record in file left side"
   ]
  },
  {
   "cell_type": "code",
   "execution_count": null,
   "id": "bbd00814-b15f-4172-b79a-085a3ac6d830",
   "metadata": {},
   "outputs": [],
   "source": []
  }
 ],
 "metadata": {
  "kernelspec": {
   "display_name": "Python 3 (ipykernel)",
   "language": "python",
   "name": "python3"
  },
  "language_info": {
   "codemirror_mode": {
    "name": "ipython",
    "version": 3
   },
   "file_extension": ".py",
   "mimetype": "text/x-python",
   "name": "python",
   "nbconvert_exporter": "python",
   "pygments_lexer": "ipython3",
   "version": "3.10.8"
  }
 },
 "nbformat": 4,
 "nbformat_minor": 5
}
